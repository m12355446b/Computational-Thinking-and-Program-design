{
  "nbformat": 4,
  "nbformat_minor": 0,
  "metadata": {
    "colab": {
      "name": "week12.ipynb",
      "provenance": []
    },
    "kernelspec": {
      "name": "python3",
      "display_name": "Python 3"
    }
  },
  "cells": [
    {
      "cell_type": "code",
      "metadata": {
        "id": "iF_FQyU8uNwr",
        "colab_type": "code",
        "colab": {
          "base_uri": "https://localhost:8080/",
          "height": 72
        },
        "outputId": "8a305d25-d515-4775-a806-a1a5b0f9cdaf"
      },
      "source": [
        "noodle = input(\"有麵嗎? YES or NO\")\n",
        "sauce = input(\"有醬料嗎? YES or NO\")\n",
        "if noodle==\"YES\" and sauce==\"YES\":\n",
        "    print(\"今天晚上吃義大利麵\")"
      ],
      "execution_count": 1,
      "outputs": [
        {
          "output_type": "stream",
          "text": [
            "有麵嗎? YES or NOYES\n",
            "有醬料嗎? YES or NOYES\n",
            "今天晚上吃義大利麵\n"
          ],
          "name": "stdout"
        }
      ]
    },
    {
      "cell_type": "code",
      "metadata": {
        "id": "OBgou4Ya4rlx",
        "colab_type": "code",
        "colab": {}
      },
      "source": [
        ""
      ],
      "execution_count": 0,
      "outputs": []
    }
  ]
}