{
  "nbformat": 4,
  "nbformat_minor": 0,
  "metadata": {
    "colab": {
      "name": "week14",
      "provenance": []
    },
    "kernelspec": {
      "name": "python3",
      "display_name": "Python 3"
    }
  },
  "cells": [
    {
      "cell_type": "code",
      "metadata": {
        "id": "N_y8JOVcu0up",
        "colab_type": "code",
        "colab": {}
      },
      "source": [
        "w = float(input(\"請輸入您的體重?(kg)\"))\n",
        "h = float(input(\"請輸入您的身高?(cm)\"))\n",
        "\n",
        "bmi = w/(h*h)\n",
        "print(\"您的bmi為\" , bmi)\n",
        "\n",
        "if bmi < 18:\n",
        "    print(\"體重過輕\")\n",
        "elif bmi < 24:\n",
        "    print(\"體重正常\")\n",
        "elif bmi <27:\n",
        "    print(\"體重過重\")\n",
        "else:\n",
        "    print(\"體重肥胖\")\n"
      ],
      "execution_count": 0,
      "outputs": []
    },
    {
      "cell_type": "code",
      "metadata": {
        "id": "TiSsj1dmw-GM",
        "colab_type": "code",
        "colab": {
          "base_uri": "https://localhost:8080/",
          "height": 199
        },
        "outputId": "e924bdee-f56d-44be-8bd4-316d0205a561"
      },
      "source": [
        "n = 0\n",
        "while n < 10:\n",
        "    print(\"hello\")\n",
        "    n = n+1\n",
        "    "
      ],
      "execution_count": 4,
      "outputs": [
        {
          "output_type": "stream",
          "text": [
            "hello\n",
            "hello\n",
            "hello\n",
            "hello\n",
            "hello\n",
            "hello\n",
            "hello\n",
            "hello\n",
            "hello\n",
            "hello\n"
          ],
          "name": "stdout"
        }
      ]
    },
    {
      "cell_type": "code",
      "metadata": {
        "id": "sHX2E2Fs4rP7",
        "colab_type": "code",
        "colab": {}
      },
      "source": [
        ""
      ],
      "execution_count": 0,
      "outputs": []
    }
  ]
}