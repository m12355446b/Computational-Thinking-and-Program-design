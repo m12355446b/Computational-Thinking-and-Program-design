{
  "nbformat": 4,
  "nbformat_minor": 0,
  "metadata": {
    "kernelspec": {
      "display_name": "Python 3",
      "language": "python",
      "name": "python3"
    },
    "language_info": {
      "codemirror_mode": {
        "name": "ipython",
        "version": 3
      },
      "file_extension": ".py",
      "mimetype": "text/x-python",
      "name": "python",
      "nbconvert_exporter": "python",
      "pygments_lexer": "ipython3",
      "version": "3.7.4"
    },
    "colab": {
      "name": "week10.ipynb",
      "provenance": []
    }
  },
  "cells": [
    {
      "cell_type": "markdown",
      "metadata": {
        "id": "sN926QvsGUXO",
        "colab_type": "text"
      },
      "source": [
        "### LBD 1: 請設計一個程式計算圓面積與圓周長，依輸入的半徑計算圓面積與圓周長。"
      ]
    },
    {
      "cell_type": "code",
      "metadata": {
        "id": "2-slz5kVGUXP",
        "colab_type": "code",
        "colab": {
          "base_uri": "https://localhost:8080/",
          "height": 72
        },
        "outputId": "27353a0b-5741-401f-cdb9-073315c911b7"
      },
      "source": [
        "半徑 = int(input(\"請輸入半徑\"))\n",
        "圓面積 = (半徑*半徑*3.14)\n",
        "圓周長 = (半徑*2*3.14)\n",
        "print(\"圓面積為\",圓面積)\n",
        "print(\"圓周常為\",圓周長)"
      ],
      "execution_count": 1,
      "outputs": [
        {
          "output_type": "stream",
          "text": [
            "請輸入半徑5\n",
            "圓面積為 78.5\n",
            "圓周常為 31.400000000000002\n"
          ],
          "name": "stdout"
        }
      ]
    },
    {
      "cell_type": "markdown",
      "metadata": {
        "id": "oOcVBQ0qGUXS",
        "colab_type": "text"
      },
      "source": [
        "### LBD 2: 請設計一個程式將輸入的攝氏溫度轉成華氏溫度，轉換公式如下:華氏溫度= 攝氏溫度*9/5+32"
      ]
    },
    {
      "cell_type": "code",
      "metadata": {
        "id": "I2-ot2oLGUXT",
        "colab_type": "code",
        "colab": {
          "base_uri": "https://localhost:8080/",
          "height": 54
        },
        "outputId": "1a4a3f6d-360b-4c4f-bca8-25a7b07b2a65"
      },
      "source": [
        "攝氏溫度 = int(input(\"請輸入攝氏溫度\"))\n",
        "華氏溫度 = (攝氏溫度*9/5+32)\n",
        "print(\"華氏溫度為\",華氏溫度)"
      ],
      "execution_count": 2,
      "outputs": [
        {
          "output_type": "stream",
          "text": [
            "請輸入攝氏溫度35\n",
            "華氏溫度為 95.0\n"
          ],
          "name": "stdout"
        }
      ]
    },
    {
      "cell_type": "markdown",
      "metadata": {
        "id": "c14IvE9CGUXY",
        "colab_type": "text"
      },
      "source": [
        "### LBD 3: 假設上衣300元、褲子350元與背心400元，使用者可以自行輸入三種服裝的數量，請設計一個程式計算訂購服裝的總金額。"
      ]
    },
    {
      "cell_type": "code",
      "metadata": {
        "id": "2LaEyo0eGUXZ",
        "colab_type": "code",
        "colab": {
          "base_uri": "https://localhost:8080/",
          "height": 90
        },
        "outputId": "87d95194-652c-466b-cc61-6b6398be8f5c"
      },
      "source": [
        "上衣 = int(input(\"請輸入衣服數量\"))\n",
        "褲子 = int(input(\"請輸入褲子數量\"))\n",
        "背心 = int(input(\"請輸入背心數量\"))\n",
        "總金額 = (上衣*300+褲子*350+背心*400)\n",
        "print(\"訂購服裝的總金額\",總金額)"
      ],
      "execution_count": 3,
      "outputs": [
        {
          "output_type": "stream",
          "text": [
            "請輸入衣服數量5\n",
            "請輸入褲子數量5\n",
            "請輸入背心數量6\n",
            "訂購服裝的總金額 5650\n"
          ],
          "name": "stdout"
        }
      ]
    },
    {
      "cell_type": "markdown",
      "metadata": {
        "id": "fRsgdKMxGUXc",
        "colab_type": "text"
      },
      "source": [
        "### LBD 4: 為了刺激銷售量，賣場通常買一打會比買一罐便宜，假設一罐賣20元，一打賣200元，請設計一個程式計算買幾罐需花多少錢，若不足一打就個別買。"
      ]
    },
    {
      "cell_type": "code",
      "metadata": {
        "id": "HAqDX3vrGUXd",
        "colab_type": "code",
        "colab": {
          "base_uri": "https://localhost:8080/",
          "height": 54
        },
        "outputId": "1f87c010-5506-4fca-fd37-821bc3a49421"
      },
      "source": [
        "數量 = int (input(\"請輸入購買數量\"))\n",
        "一打 = (數量//12)\n",
        "不足一打 = (數量%12)\n",
        "總金額 = (數量//12*200+數量%12*20)\n",
        "print(\"總金額\",總金額)"
      ],
      "execution_count": 4,
      "outputs": [
        {
          "output_type": "stream",
          "text": [
            "請輸入購買數量26\n",
            "總金額 440\n"
          ],
          "name": "stdout"
        }
      ]
    },
    {
      "cell_type": "markdown",
      "metadata": {
        "id": "D2HCggJ1GUXf",
        "colab_type": "text"
      },
      "source": [
        "### LBD 5: 請輸入第一次期中考、第二次期中考與期末考成績，成績皆為整數，請計算分數的加總與平均。"
      ]
    },
    {
      "cell_type": "code",
      "metadata": {
        "id": "-mLPMTskGUXg",
        "colab_type": "code",
        "colab": {
          "base_uri": "https://localhost:8080/",
          "height": 108
        },
        "outputId": "9e65b2cc-0f69-4d9b-d64b-19af828be6aa"
      },
      "source": [
        "第一次期中考成績 = int(input(\"請輸入第一次期中考成績\"))\n",
        "第二次期中考成績 = int(input(\"請輸入第二次期中考成績\"))\n",
        "期末考成績 = int(input(\"請輸入期末考成績\"))\n",
        "加總 = (第一次期中考成績+第二次期中考成績+期末考成績)\n",
        "平均 = (加總/3)\n",
        "print(\"加總為\",加總)\n",
        "print(\"平均為\",平均)"
      ],
      "execution_count": 5,
      "outputs": [
        {
          "output_type": "stream",
          "text": [
            "請輸入第一次期中考成績85\n",
            "請輸入第二次期中考成績99\n",
            "請輸入期末考成績90\n",
            "加總為 274\n",
            "平均為 91.33333333333333\n"
          ],
          "name": "stdout"
        }
      ]
    },
    {
      "cell_type": "code",
      "metadata": {
        "id": "IbTmWf4tvGLM",
        "colab_type": "code",
        "colab": {}
      },
      "source": [
        ""
      ],
      "execution_count": 0,
      "outputs": []
    }
  ]
}