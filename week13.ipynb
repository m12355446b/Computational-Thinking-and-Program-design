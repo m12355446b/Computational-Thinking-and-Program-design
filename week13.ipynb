{
  "nbformat": 4,
  "nbformat_minor": 0,
  "metadata": {
    "colab": {
      "name": "week13.ipynb",
      "provenance": []
    },
    "kernelspec": {
      "name": "python3",
      "display_name": "Python 3"
    }
  },
  "cells": [
    {
      "cell_type": "code",
      "metadata": {
        "id": "YsOfR4MKpaVt",
        "colab_type": "code",
        "colab": {
          "base_uri": "https://localhost:8080/",
          "height": 72
        },
        "outputId": "43f45c6c-8676-49e4-f121-3e3a844cbd6e"
      },
      "source": [
        "score = int(input(\"請輸入成績\"))\n",
        "if score < 60 :\n",
        "    print(\"要加油\")\n",
        "if 80 > score >= 60 :\n",
        "    print(\"不錯喔\")\n",
        "if score >= 80 :\n",
        "    print(\"非常好\")\n",
        "print(\"完成\")"
      ],
      "execution_count": 2,
      "outputs": [
        {
          "output_type": "stream",
          "text": [
            "請輸入成績96\n",
            "非常好\n",
            "完成\n"
          ],
          "name": "stdout"
        }
      ]
    },
    {
      "cell_type": "code",
      "metadata": {
        "id": "Ih7eWbFKvRmX",
        "colab_type": "code",
        "colab": {}
      },
      "source": [
        ""
      ],
      "execution_count": 0,
      "outputs": []
    }
  ]
}