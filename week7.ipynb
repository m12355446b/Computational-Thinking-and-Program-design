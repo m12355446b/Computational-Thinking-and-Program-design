{
  "nbformat": 4,
  "nbformat_minor": 0,
  "metadata": {
    "colab": {
      "name": "week7.ipynb",
      "provenance": []
    },
    "kernelspec": {
      "name": "python3",
      "display_name": "Python 3"
    }
  },
  "cells": [
    {
      "cell_type": "code",
      "metadata": {
        "id": "e4cmPvqm1-5b",
        "colab_type": "code",
        "colab": {
          "base_uri": "https://localhost:8080/",
          "height": 84
        },
        "outputId": "1add7134-af74-4e5e-d4f8-70a56a1b1aef"
      },
      "source": [
        "title=\"梨泰院Class\" #片名\n",
        "release_year=\"2020\" #播放日期\n",
        "movie_time=960 #總片長\n",
        "movie_rating=8.8 #評分\n",
        "\n",
        "director=\"金成允\" #導演\n",
        "star_1=\"朴敘俊\" #主演\n",
        "star_2=\" 金多美\" #主演\n",
        "star_3=\"劉在明 \" #主演\n",
        "star_4=\"權娜拉\" #主演\n",
        "\n",
        "print(title) #螢幕列印\n",
        "print(release_year)\n",
        "print(movie_time)\n",
        "print(movie_rating)\n",
        "\n"
      ],
      "execution_count": 1,
      "outputs": [
        {
          "output_type": "stream",
          "text": [
            "梨泰院Class\n",
            "2020\n",
            "960\n",
            "8.8\n"
          ],
          "name": "stdout"
        }
      ]
    }
  ]
}