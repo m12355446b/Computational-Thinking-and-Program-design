{
  "nbformat": 4,
  "nbformat_minor": 0,
  "metadata": {
    "colab": {
      "name": "Copy of Think-Week4-A108060028-2.ipynb",
      "provenance": [],
      "collapsed_sections": []
    },
    "kernelspec": {
      "name": "python3",
      "display_name": "Python 3"
    }
  },
  "cells": [
    {
      "cell_type": "code",
      "metadata": {
        "id": "soFXOzsRdwKN",
        "colab_type": "code",
        "colab": {}
      },
      "source": [
        ""
      ],
      "execution_count": 0,
      "outputs": []
    },
    {
      "cell_type": "markdown",
      "metadata": {
        "id": "dSAiHJPQjB7q",
        "colab_type": "text"
      },
      "source": [
        "我是黃安如"
      ]
    },
    {
      "cell_type": "markdown",
      "metadata": {
        "id": "tuHSLTByibTL",
        "colab_type": "text"
      },
      "source": [
        "你有看到嗎 "
      ]
    },
    {
      "cell_type": "code",
      "metadata": {
        "id": "RScTwisnazm8",
        "colab_type": "code",
        "outputId": "68dbd34d-f37d-4991-c206-c09b71c72afd",
        "colab": {
          "base_uri": "https://localhost:8080/",
          "height": 54
        }
      },
      "source": [
        " print(\"Hellow Word\")  \n",
        " print(\"你好嗎\")"
      ],
      "execution_count": 0,
      "outputs": [
        {
          "output_type": "stream",
          "text": [
            "Hellow Word\n",
            "你好嗎\n"
          ],
          "name": "stdout"
        }
      ]
    },
    {
      "cell_type": "markdown",
      "metadata": {
        "id": "st4ZdfmZimsJ",
        "colab_type": "text"
      },
      "source": [
        "我是黃安如"
      ]
    },
    {
      "cell_type": "markdown",
      "metadata": {
        "id": "KM2BH6g3hq9b",
        "colab_type": "text"
      },
      "source": [
        "你好 我是林佳彤"
      ]
    },
    {
      "cell_type": "code",
      "metadata": {
        "id": "QPA0JCH3hvxp",
        "colab_type": "code",
        "colab": {}
      },
      "source": [
        ""
      ],
      "execution_count": 0,
      "outputs": []
    }
  ]
}