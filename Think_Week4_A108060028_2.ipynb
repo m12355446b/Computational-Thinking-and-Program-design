{
  "nbformat": 4,
  "nbformat_minor": 0,
  "metadata": {
    "colab": {
      "name": "Think-Week4-A108060028-2.ipynb",
      "provenance": []
    },
    "kernelspec": {
      "name": "python3",
      "display_name": "Python 3"
    }
  },
  "cells": [
    {
      "cell_type": "code",
      "metadata": {
        "id": "soFXOzsRdwKN",
        "colab_type": "code",
        "colab": {}
      },
      "source": [
        ""
      ],
      "execution_count": 0,
      "outputs": []
    },
    {
      "cell_type": "code",
      "metadata": {
        "id": "RScTwisnazm8",
        "colab_type": "code",
        "outputId": "68dbd34d-f37d-4991-c206-c09b71c72afd",
        "colab": {
          "base_uri": "https://localhost:8080/",
          "height": 54
        }
      },
      "source": [
        " print(\"Hellow Word\")  \n",
        " print(\"你好嗎\")"
      ],
      "execution_count": 0,
      "outputs": [
        {
          "output_type": "stream",
          "text": [
            "Hellow Word\n",
            "你好嗎\n"
          ],
          "name": "stdout"
        }
      ]
    }
  ]
}