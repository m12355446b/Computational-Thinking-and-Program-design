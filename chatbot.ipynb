{
  "nbformat": 4,
  "nbformat_minor": 0,
  "metadata": {
    "colab": {
      "name": "chatbot.ipynb",
      "provenance": []
    },
    "kernelspec": {
      "name": "python3",
      "display_name": "Python 3"
    }
  },
  "cells": [
    {
      "cell_type": "code",
      "metadata": {
        "id": "5seNxFQ9CQsT",
        "colab_type": "code",
        "colab": {}
      },
      "source": [
        "#聊天機器人自我介紹\n",
        "print(\"安安你好!我叫做Swandy!我是你心中沒有靈魂的機器人\")\n",
        "hobby = (\"我喜歡看帥哥,也喜歡追星,更喜歡逗掃地機器人笑。很高興今天可以遇見你~\")\n",
        "print(hobby)\n",
        "name = input(\"安安!請問你的貴姓大名?:\")\n",
        "print(\"我叫\", name)\n",
        "print(\"哈囉\",name, \"在茫茫人海中很開心能夠找到你\")\n",
        "print(\"我看見你的第一眼就覺得妳與眾不同\")\n",
        "#\n",
        "攝氏溫度 = int(input(\"今天攝氏溫度幾度呀?\"))\n",
        "華氏溫度 = 攝氏溫度*9/5+32\n",
        "print(\"也就是華氏溫度的\", 華氏溫度)\n",
        "print(\"謝謝你告訴我!\")\n",
        "look = input(\"那你覺得我應該要穿什麼衣服呢?:\")\n",
        "print(\"我應該要穿\", look)\n",
        "print(\"謝謝你,穿那樣一定很舒服~\")\n",
        "#\n",
        "myage = int(input(\"那你覺得我今年幾歲呢?\"))\n",
        "print(\"喔挖塞你也太會猜!我今年真的\",myage)\n",
        "myage = int(myage)\n",
        "nyears = 101-myage\n",
        "print(\"我再\",nyears,\"年就101歲了呦!\")\n",
        "#\n",
        "print(\"我喜歡喝飲料\",\"尤其是珍珠奶茶\")\n",
        "drink = input(\"你喜歡喝什麼飲料呀?:\")\n",
        "print(\"是喔!但我不喜歡\",drink)\n",
        "question= \"你的\",drink,\"甜度冰塊都喝怎麼樣的呀?\"\n",
        "習慣=input(question)\n",
        "print(\"太巧了吧都跟我一樣耶!\")\n",
        "#\n",
        "flower=input(\"我最喜歡的花是向日葵。你呢?:\")\n",
        "print(flower,\"!我也喜歡\")\n",
        "print(\"不知道一邊看\",flower,\"一邊喝\", drink ,\"是什麼感覺呢?\")\n",
        "#\n",
        "feeling = input(\"你今天心情如何?\")\n",
        "print(\"願意跟我分享為甚麼\",feeling,\"嗎?\")\n",
        "reason = input(\"說祕密時間:\")\n",
        "print(\"原來是這樣呀!放心我不會說出去的~\")\n",
        "#\n",
        "print(\"說那麼多話我覺得口好渴喔!\")\n",
        "print(\"我要再去嘗試一次\",drink,\"下次再跟你說我有沒有喜歡上喝\",drink)\n",
        "print(\"掰掰囉!\",name,\"期待下次和你的相遇。\")\n"
      ],
      "execution_count": 0,
      "outputs": []
    },
    {
      "cell_type": "code",
      "metadata": {
        "id": "qRbKr7L7CRl_",
        "colab_type": "code",
        "colab": {}
      },
      "source": [
        ""
      ],
      "execution_count": 0,
      "outputs": []
    }
  ]
}